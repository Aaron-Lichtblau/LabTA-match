{
 "cells": [
  {
   "cell_type": "code",
   "execution_count": 3,
   "metadata": {},
   "outputs": [],
   "source": [
    "from pulp import *\n",
    "import max_weight_cap\n",
    "import labTA\n",
    "from schedule import Schedule\n",
    "import stats\n",
    "import swap\n",
    "import input_creator\n",
    "import output_creator\n",
    "import gspread\n",
    "import copy\n",
    "from oauth2client.service_account import ServiceAccountCredentials\n",
    "import pandas as pd\n",
    "import numpy as np\n",
    "\n",
    "HOURS_LIMIT = 4 #limit of hours a TA can work\n",
    "STUD_SLOTS_WORKED_CAP = 2\n",
    "MAX_VALUE = 10\n",
    "MIN_VALUE = 0\n",
    "OVERLAPS = {'Sa_4': 'Sa_3', 'Sa_5':'Sa_4', 'Su_6':'Su_5', 'Su_7':'Su_6', 'Su_8':'Su_7', 'Su_9':'Su_8'} #dict of slots to check as keys, and overlapping slots as values\n",
    "# slots and num of TA's desired\n",
    "slotdict = {\"M_7\" : 8, \"M_9\" : 6,\"Tu_7\" : 5, \"Tu_9\" : 4,\"W_7\" : 4, \"W_9\" : 4,\"Th_7\" : 4, \"Th_9\" : 4,\"F_7\" : 4, \"F_9\" : 4,\"Sa_3\" : 5, \"Sa_4\" : 6,\"Sa_5\" : 5,\"Su_5\" : 4,\"Su_6\" : 3,\"Su_7\" : 6,\"Su_8\" : 4, \"Su_9\" : 6}\n",
    "NUM_SLOTS = 16.0 #number of slots\n",
    "NUM_STUDENTS = 45\n",
    "MAX_HAP = 258.0\n",
    "score = 3"
   ]
  },
  {
   "cell_type": "code",
   "execution_count": 4,
   "metadata": {},
   "outputs": [],
   "source": [
    "import pandas as pd"
   ]
  },
  {
   "cell_type": "code",
   "execution_count": 7,
   "metadata": {},
   "outputs": [],
   "source": [
    "# use creds to create a client to interact with the Google Drive API\n",
    "scope = ['https://spreadsheets.google.com/feeds', 'https://www.googleapis.com/auth/drive']\n",
    "creds = ServiceAccountCredentials.from_json_keyfile_name('labTA-match-secret.json', scope)\n",
    "client = gspread.authorize(creds)\n",
    "\n",
    "# Find workbook and open the first sheet\n",
    "sheet = client.open('LabTA_test2').sheet1\n",
    "\n",
    "# make dataframe\n",
    "df_shir = pd.DataFrame(sheet.get_all_records())\n",
    "\n",
    "#get experience dict\n",
    "students = []\n",
    "for stud_num in range(NUM_STUDENTS):\n",
    "    name = df_shir.at[int(stud_num), \"name\"]\n",
    "    students.append(name)\n",
    "exp_dict = input_creator.get_exp('historical_data.csv', students)"
   ]
  },
  {
   "cell_type": "code",
   "execution_count": 8,
   "metadata": {},
   "outputs": [
    {
     "name": "stdout",
     "output_type": "stream",
     "text": [
      "Shirley schedule stats:\n",
      "M_7  has average experience:  2.5\n",
      "M_9  has average experience:  2.0\n",
      "Tu_7  has average experience:  3.0\n",
      "Tu_9  has average experience:  2.0\n",
      "W_7  has average experience:  2.25\n",
      "W_9  has average experience:  2.25\n",
      "Th_7  has average experience:  2.0\n",
      "Th_9  has average experience:  1.5\n",
      "F_7  has average experience:  2.0\n",
      "F_9  has average experience:  2.0\n",
      "Sa_3  has average experience:  1.8\n",
      "Sa_4  has average experience:  3.0\n",
      "Sa_5  has average experience:  1.6\n",
      "Su_5  has average experience:  2.5\n",
      "Su_6  has average experience:  2.6666666666666665\n",
      "Su_7  has average experience:  2.3333333333333335\n",
      "Su_8  has average experience:  3.0\n",
      "Su_9  has average experience:  2.3333333333333335\n",
      "Total Happiness:  0.9031007751937985\n",
      "\n",
      "Availability to happiness correlation:  -0.0173767262022999\n",
      "\n",
      "Variance of happiness:  1.9222222222222216\n",
      "\n",
      "Envy stats:  148\n",
      "\n",
      "Incorrect stats:  63\n",
      "\n"
     ]
    }
   ],
   "source": [
    "#shirley's schedule\n",
    "shirley_data = {\"M_7\" : ['Tajreen Ahmed', 'Urvashi Uberoy', 'Ze-Xin Koh', 'Kyle Johnson', 'Ariel Rakovitsky', 'Caroline di Vittorio', 'Khyati Agrawal', 'Annie Zhou'], \"M_9\" : ['Cathleen Kong', 'HJ Suh', 'Ze-Xin Koh', 'Akash Pattnaik', 'Ariel Rakovitsky', 'Caroline di Vittorio'],\"Tu_7\" : ['Uri Schwartz','Alan Ding','Urvashi Uberoy','Akash Pattnaik','Bobby Morck'], \"Tu_9\" : ['Justin Chang','Alan Ding','Caio Costa','Bobby Morck'],\"W_7\" : ['Michelle Woo','Avi Bendory','Kawin Tiyawattanaroj','Tajreen Ahmed'], \"W_9\" : ['Michelle Woo','Avi Bendory','Kawin Tiyawattanaroj','Khyati Agrawal'],\"Th_7\" : ['Charlie Smith','Niranjan Shankar','Caio Costa','Ryan Golant'], \"Th_9\" : ['Charlie Smith','Arjun Devraj','Somya Arora','Jason Xu'],\"F_7\" : ['Annie Zhou','Nathan Alam','Sahan Paliskara','Connie Miao'], \"F_9\" : ['Somya Arora','Nathan Alam','Sahan Paliskara','Ryan Golant'],\"Sa_3\" : ['Anu Vellore','Ibrahim Ali Hashmi','Aditya Kohli','Lily Zhang','Ezra Zinberg'], \"Sa_4\" : ['Jackson Deitelzweig','Donovan Coronado','Jason Xu','Uri Schwartz','Ally Dalman','Catherine Yu'],\"Sa_5\" : ['Anu Vellore','Ibrahim Ali Hashmi','Connie Miao','Lily Zhang','Ezra Zinberg'],\"Su_5\" : ['Nala Sharadjaya','Arjun Devraj','Donovan Coronado','Niranjan Shankar'],\"Su_6\" : ['Kyle Johnson','Sandun Bambarandage','Jackson Deitelzweig'],\"Su_7\" : ['Yashodhar Govil','Shirley Z.','Aniela Macek','Chuk Uzoegwu','Nala Sharadjaya','Aditya Kohli'],\"Su_8\" : ['Cathleen Kong','Sandun Bambarandage','HJ Suh','Ally Dalman'], \"Su_9\" : ['Yashodhar Govil','Shirley Z.','Aniela Macek','Chuk Uzoegwu','Justin Chang','Catherine Yu']}\n",
    "shirley_sched = Schedule(shirley_data)\n",
    "print(\"Shirley schedule stats:\")\n",
    "stats.exp_stats(exp_dict, shirley_sched)\n",
    "shir_hap = stats.sched_happiness(df_shir, shirley_sched)\n",
    "print('Total Happiness: ', shir_hap[0])\n",
    "print()\n",
    "print('Availability to happiness correlation: ', shir_hap[1])\n",
    "print()\n",
    "print('Variance of happiness: ', shir_hap[2])\n",
    "print()\n",
    "print('Envy stats: ', shir_hap[3])\n",
    "print()\n",
    "print('Incorrect stats: ', shir_hap[4])\n",
    "print()"
   ]
  },
  {
   "cell_type": "code",
   "execution_count": 10,
   "metadata": {},
   "outputs": [
    {
     "name": "stdout",
     "output_type": "stream",
     "text": [
      "Total Happiness:  0.9767441860465116\n",
      "\n",
      "Availability to happiness correlation:  0.0983788997247197\n",
      "\n",
      "Variance of happiness:  0.7909090909090911\n",
      "\n",
      "Envy stats:  39\n",
      "\n",
      "Incorrect stats:  10\n",
      "\n"
     ]
    }
   ],
   "source": [
    "df_greedy = pd.DataFrame(sheet.get_all_records())\n",
    "\n",
    "ordered_slotdict = labTA.get_order(df_greedy)\n",
    "blank_sched = Schedule()\n",
    "greedy_sched = labTA.scheduler(df_greedy, score, ordered_slotdict, blank_sched)\n",
    "\n",
    "unhap_studs = swap.get_unhappy(df_greedy)\n",
    "swap_dict = swap.check_swap(df_greedy, greedy_sched, unhap_studs)\n",
    "swap.correct_swap(df_greedy, greedy_sched, unhap_studs, swap_dict)\n",
    "# print(df_greedy)\n",
    "#Evaluate happiness stats of schedule\n",
    "greedy_hap = stats.sched_happiness(df_greedy, greedy_sched)\n",
    "print('Total Happiness: ', greedy_hap[0])\n",
    "print()\n",
    "print('Availability to happiness correlation: ', greedy_hap[1])\n",
    "print()\n",
    "print('Variance of happiness: ', greedy_hap[2])\n",
    "print()\n",
    "print('Envy stats: ', greedy_hap[3])\n",
    "print()\n",
    "print('Incorrect stats: ', greedy_hap[4])\n",
    "print()"
   ]
  },
  {
   "cell_type": "code",
   "execution_count": 15,
   "metadata": {},
   "outputs": [
    {
     "name": "stderr",
     "output_type": "stream",
     "text": [
      "/Users/aaronlichtblau/opt/miniconda3/lib/python3.7/site-packages/pulp/pulp.py:1114: UserWarning: Spaces are not permitted in the name. Converted to '_'\n",
      "  warnings.warn(\"Spaces are not permitted in the name. Converted to '_'\")\n"
     ]
    },
    {
     "name": "stdout",
     "output_type": "stream",
     "text": [
      "Status: Optimal\n",
      "Total Happiness:  0.9108527131782945\n",
      "\n",
      "Availability to happiness correlation:  0.2019781285563226\n",
      "\n",
      "Variance of happiness:  2.7676767676767673\n",
      "\n",
      "Envy stats:  142\n",
      "\n",
      "Incorrect stats:  2\n",
      "\n"
     ]
    }
   ],
   "source": [
    "df_lp = input_creator.get_df()\n",
    "\n",
    "#dict of students (keys) and max number of shifts they can work (values)\n",
    "stud_shift_cap = {} # to be fetched by input_creator when functionality is added\n",
    "for student in list(df_lp['name']):\n",
    "    stud_shift_cap[student] = STUD_SLOTS_WORKED_CAP #for now all students work max of 2 shifts\n",
    "exp_dict = input_creator.get_exp('historical_data.csv', stud_shift_cap.keys()) #dict of students (keys) and number of semesters experience (values)\n",
    "\n",
    "#create graph nodes and weight edges\n",
    "graph_data = max_weight_cap.create_graph(df_lp, stud_shift_cap)\n",
    "student_nodes = graph_data[0]\n",
    "slot_nodes = graph_data[1]\n",
    "wt = graph_data[2]\n",
    "\n",
    "#solve the problem and get the ordered schedule\n",
    "p = max_weight_cap.solve_wbm(student_nodes, slot_nodes, wt)\n",
    "unordered_sched_dict = max_weight_cap.get_solution(p)\n",
    "max_weight_sched = max_weight_cap.order_sched(df_lp, unordered_sched_dict)\n",
    "\n",
    "#print df and happiness stats\n",
    "print(df_lp)\n",
    "\n",
    "max_weight_hap = stats.sched_happiness(df_lp, max_weight_sched)\n",
    "print('Total Happiness: ', max_weight_hap[0])\n",
    "print()\n",
    "print('Availability to happiness correlation: ', max_weight_hap[1])\n",
    "print()\n",
    "print('Variance of happiness: ', max_weight_hap[2])\n",
    "print()\n",
    "print('Envy stats: ', max_weight_hap[3])\n",
    "print()\n",
    "print('Incorrect stats: ', max_weight_hap[4])\n",
    "print()"
   ]
  },
  {
   "cell_type": "code",
   "execution_count": null,
   "metadata": {},
   "outputs": [],
   "source": [
    "#demo swap function\n",
    "#use exp stats to find student we want to swap\n",
    "#print df\n",
    "#get suggested swap\n",
    "#make swap and print new df"
   ]
  },
  {
   "cell_type": "code",
   "execution_count": null,
   "metadata": {},
   "outputs": [],
   "source": [
    "#demo weighing function\n",
    "#print df\n",
    "#weigh student-slot who has high score"
   ]
  }
 ],
 "metadata": {
  "kernelspec": {
   "display_name": "Python 3",
   "language": "python",
   "name": "python3"
  },
  "language_info": {
   "codemirror_mode": {
    "name": "ipython",
    "version": 3
   },
   "file_extension": ".py",
   "mimetype": "text/x-python",
   "name": "python",
   "nbconvert_exporter": "python",
   "pygments_lexer": "ipython3",
   "version": "3.7.7"
  }
 },
 "nbformat": 4,
 "nbformat_minor": 4
}
