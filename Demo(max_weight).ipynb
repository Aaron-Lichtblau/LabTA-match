{
 "cells": [
  {
   "cell_type": "code",
   "execution_count": 1,
   "metadata": {},
   "outputs": [],
   "source": [
    "from pulp import *\n",
    "import max_weight_cap\n",
    "import labTA\n",
    "from schedule import Schedule\n",
    "import stats\n",
    "import swap\n",
    "import past_exp_reader\n",
    "import gspread\n",
    "import copy\n",
    "from oauth2client.service_account import ServiceAccountCredentials\n",
    "import pandas as pd\n",
    "import numpy as np\n",
    "\n",
    "HOURS_LIMIT = 4 #limit of hours a TA can work\n",
    "STUD_SLOTS_WORKED_CAP = 2\n",
    "MAX_VALUE = 10\n",
    "MIN_VALUE = 0\n",
    "OVERLAPS = {'Sa_4': 'Sa_3', 'Sa_5':'Sa_4', 'Su_6':'Su_5', 'Su_7':'Su_6', 'Su_8':'Su_7', 'Su_9':'Su_8'} #dict of slots to check as keys, and overlapping slots as values\n",
    "# slots and num of TA's desired\n",
    "slotdict = {\"M_7\" : 8, \"M_9\" : 6,\"Tu_7\" : 5, \"Tu_9\" : 4,\"W_7\" : 4, \"W_9\" : 4,\"Th_7\" : 4, \"Th_9\" : 4,\"F_7\" : 4, \"F_9\" : 4,\"Sa_3\" : 5, \"Sa_4\" : 6,\"Sa_5\" : 5,\"Su_5\" : 4,\"Su_6\" : 3,\"Su_7\" : 6,\"Su_8\" : 4, \"Su_9\" : 6}\n",
    "NUM_SLOTS = 16.0 #number of slots\n",
    "NUM_STUDENTS = 45\n",
    "MAX_HAP = 258.0\n",
    "score = 3"
   ]
  },
  {
   "cell_type": "code",
   "execution_count": 2,
   "metadata": {},
   "outputs": [],
   "source": [
    "import pandas as pd"
   ]
  },
  {
   "cell_type": "code",
   "execution_count": 3,
   "metadata": {},
   "outputs": [],
   "source": [
    "# use creds to create a client to interact with the Google Drive API\n",
    "scope = ['https://spreadsheets.google.com/feeds', 'https://www.googleapis.com/auth/drive']\n",
    "creds = ServiceAccountCredentials.from_json_keyfile_name('labTA-match-secret.json', scope)\n",
    "client = gspread.authorize(creds)\n",
    "\n",
    "# Find workbook and open the first sheet\n",
    "sheet = client.open('LabTA_test2').sheet1\n",
    "\n",
    "# make dataframe\n",
    "df_shir = pd.DataFrame(sheet.get_all_records())\n",
    "\n",
    "#get experience dict\n",
    "students = []\n",
    "for stud_num in range(NUM_STUDENTS):\n",
    "    name = df_shir.at[int(stud_num), \"name\"]\n",
    "    students.append(name)\n",
    "exp_dict = past_exp_reader.get_exp('historical_data.csv', students)"
   ]
  },
  {
   "cell_type": "code",
   "execution_count": 4,
   "metadata": {},
   "outputs": [
    {
     "name": "stdout",
     "output_type": "stream",
     "text": [
      "Shirley schedule stats:\n",
      "M_7  has average experience:  2.5\n",
      "M_9  has average experience:  2.0\n",
      "Tu_7  has average experience:  3.0\n",
      "Tu_9  has average experience:  2.0\n",
      "W_7  has average experience:  2.25\n",
      "W_9  has average experience:  2.25\n",
      "Th_7  has average experience:  2.0\n",
      "Th_9  has average experience:  1.5\n",
      "F_7  has average experience:  2.0\n",
      "F_9  has average experience:  2.0\n",
      "Sa_3  has average experience:  1.8\n",
      "Sa_4  has average experience:  3.0\n",
      "Sa_5  has average experience:  1.6\n",
      "Su_5  has average experience:  2.5\n",
      "Su_6  has average experience:  2.6666666666666665\n",
      "Su_7  has average experience:  2.3333333333333335\n",
      "Su_8  has average experience:  3.0\n",
      "Su_9  has average experience:  2.3333333333333335\n",
      "Total Happiness:  0.9031007751937985\n",
      "\n",
      "Availability to happiness correlation:  -0.0173767262022999\n",
      "\n",
      "Variance of happiness:  1.9222222222222216\n",
      "\n",
      "Envy stats:  148\n",
      "\n",
      "Incorrect stats:  63\n",
      "\n"
     ]
    }
   ],
   "source": [
    "#shirley's schedule\n",
    "shirley_data = {\"M_7\" : ['Tajreen Ahmed', 'Urvashi Uberoy', 'Ze-Xin Koh', 'Kyle Johnson', 'Ariel Rakovitsky', 'Caroline di Vittorio', 'Khyati Agrawal', 'Annie Zhou'], \"M_9\" : ['Cathleen Kong', 'HJ Suh', 'Ze-Xin Koh', 'Akash Pattnaik', 'Ariel Rakovitsky', 'Caroline di Vittorio'],\"Tu_7\" : ['Uri Schwartz','Alan Ding','Urvashi Uberoy','Akash Pattnaik','Bobby Morck'], \"Tu_9\" : ['Justin Chang','Alan Ding','Caio Costa','Bobby Morck'],\"W_7\" : ['Michelle Woo','Avi Bendory','Kawin Tiyawattanaroj','Tajreen Ahmed'], \"W_9\" : ['Michelle Woo','Avi Bendory','Kawin Tiyawattanaroj','Khyati Agrawal'],\"Th_7\" : ['Charlie Smith','Niranjan Shankar','Caio Costa','Ryan Golant'], \"Th_9\" : ['Charlie Smith','Arjun Devraj','Somya Arora','Jason Xu'],\"F_7\" : ['Annie Zhou','Nathan Alam','Sahan Paliskara','Connie Miao'], \"F_9\" : ['Somya Arora','Nathan Alam','Sahan Paliskara','Ryan Golant'],\"Sa_3\" : ['Anu Vellore','Ibrahim Ali Hashmi','Aditya Kohli','Lily Zhang','Ezra Zinberg'], \"Sa_4\" : ['Jackson Deitelzweig','Donovan Coronado','Jason Xu','Uri Schwartz','Ally Dalman','Catherine Yu'],\"Sa_5\" : ['Anu Vellore','Ibrahim Ali Hashmi','Connie Miao','Lily Zhang','Ezra Zinberg'],\"Su_5\" : ['Nala Sharadjaya','Arjun Devraj','Donovan Coronado','Niranjan Shankar'],\"Su_6\" : ['Kyle Johnson','Sandun Bambarandage','Jackson Deitelzweig'],\"Su_7\" : ['Yashodhar Govil','Shirley Z.','Aniela Macek','Chuk Uzoegwu','Nala Sharadjaya','Aditya Kohli'],\"Su_8\" : ['Cathleen Kong','Sandun Bambarandage','HJ Suh','Ally Dalman'], \"Su_9\" : ['Yashodhar Govil','Shirley Z.','Aniela Macek','Chuk Uzoegwu','Justin Chang','Catherine Yu']}\n",
    "shirley_sched = Schedule(shirley_data)\n",
    "print(\"Shirley schedule stats:\")\n",
    "stats.exp_stats(exp_dict, shirley_sched)\n",
    "shir_hap = stats.sched_happiness(df_shir, shirley_sched)\n",
    "print('Total Happiness: ', shir_hap[0])\n",
    "print()\n",
    "print('Availability to happiness correlation: ', shir_hap[1])\n",
    "print()\n",
    "print('Variance of happiness: ', shir_hap[2])\n",
    "print()\n",
    "print('Envy stats: ', shir_hap[3])\n",
    "print()\n",
    "print('Incorrect stats: ', shir_hap[4])\n",
    "print()"
   ]
  },
  {
   "cell_type": "code",
   "execution_count": 5,
   "metadata": {},
   "outputs": [
    {
     "name": "stdout",
     "output_type": "stream",
     "text": [
      "Total Happiness:  0.9767441860465116\n",
      "\n",
      "Availability to happiness correlation:  0.2534326003778107\n",
      "\n",
      "Variance of happiness:  0.7909090909090911\n",
      "\n",
      "Envy stats:  43\n",
      "\n",
      "Incorrect stats:  6\n",
      "\n"
     ]
    }
   ],
   "source": [
    "df_aaron = pd.DataFrame(sheet.get_all_records())\n",
    "\n",
    "ordered_slotdict = labTA.get_order(df_aaron)\n",
    "blank_sched = Schedule()\n",
    "aaron_sched = labTA.scheduler(df_aaron, score, ordered_slotdict, blank_sched)\n",
    "\n",
    "unhap_studs = swap.get_unhappy(df_aaron)\n",
    "swap_dict = swap.check_swap(df_aaron, aaron_sched, unhap_studs)\n",
    "swap.correct_swap(df_aaron, aaron_sched, unhap_studs, swap_dict)\n",
    "# print(df_aaron)\n",
    "#Evaluate happiness stats of schedule\n",
    "aaron_hap = stats.sched_happiness(df_aaron, aaron_sched)\n",
    "print('Total Happiness: ', aaron_hap[0])\n",
    "print()\n",
    "print('Availability to happiness correlation: ', aaron_hap[1])\n",
    "print()\n",
    "print('Variance of happiness: ', aaron_hap[2])\n",
    "print()\n",
    "print('Envy stats: ', aaron_hap[3])\n",
    "print()\n",
    "print('Incorrect stats: ', aaron_hap[4])\n",
    "print()"
   ]
  },
  {
   "cell_type": "code",
   "execution_count": 7,
   "metadata": {},
   "outputs": [
    {
     "name": "stderr",
     "output_type": "stream",
     "text": [
      "/Users/aaronlichtblau/opt/miniconda3/lib/python3.7/site-packages/pulp/pulp.py:1114: UserWarning: Spaces are not permitted in the name. Converted to '_'\n",
      "  warnings.warn(\"Spaces are not permitted in the name. Converted to '_'\")\n"
     ]
    },
    {
     "name": "stdout",
     "output_type": "stream",
     "text": [
      "Status: Optimal\n",
      "Total Happiness:  0.9922480620155039\n",
      "\n",
      "Availability to happiness correlation:  0.45586699410583836\n",
      "\n",
      "Variance of happiness:  1.173737373737374\n",
      "\n",
      "Envy stats:  40\n",
      "\n",
      "Incorrect stats:  4\n",
      "\n"
     ]
    }
   ],
   "source": [
    "df_max_weight = pd.DataFrame(sheet.get_all_records())\n",
    "\n",
    "#create graph nodes and weight edges\n",
    "graph_data = max_weight_cap.create_graph(df_max_weight)\n",
    "student_nodes = graph_data[0]\n",
    "slot_nodes = graph_data[1]\n",
    "wt = graph_data[2]\n",
    "student_cap = graph_data[3]\n",
    "slot_cap = graph_data[4]\n",
    "\n",
    "#solve the problem and get the ordered schedule\n",
    "p = max_weight_cap.solve_wbm(student_nodes, slot_nodes, wt, student_cap, slot_cap)\n",
    "unordered_sched_dict = max_weight_cap.get_solution(p)\n",
    "max_weight_sched = max_weight_cap.order_sched(df_max_weight, unordered_sched_dict)\n",
    "# Schedule.print_sched(max_weight_sched)\n",
    "labTA.schedule_to_df(df_max_weight, max_weight_sched)\n",
    "\n",
    "# #make list of overlap students and resolve them\n",
    "# overlaps = max_weight_cap.get_overlaps(df_max_weight, max_weight_sched)\n",
    "# max_weight_cap.resolve_overlaps(df_max_weight, max_weight_sched, overlaps)\n",
    "\n",
    "#print df and happiness stats\n",
    "# print(df_max_weight)\n",
    "\n",
    "max_weight_hap = stats.sched_happiness(df_max_weight, max_weight_sched)\n",
    "print('Total Happiness: ', max_weight_hap[0])\n",
    "print()\n",
    "print('Availability to happiness correlation: ', max_weight_hap[1])\n",
    "print()\n",
    "print('Variance of happiness: ', max_weight_hap[2])\n",
    "print()\n",
    "print('Envy stats: ', max_weight_hap[3])\n",
    "print()\n",
    "print('Incorrect stats: ', max_weight_hap[4])\n",
    "print()"
   ]
  },
  {
   "cell_type": "code",
   "execution_count": null,
   "metadata": {},
   "outputs": [],
   "source": [
    "#demo swap function\n",
    "#use exp stats to find student we want to swap\n",
    "#print df\n",
    "#get suggested swap\n",
    "#make swap and print new df"
   ]
  },
  {
   "cell_type": "code",
   "execution_count": null,
   "metadata": {},
   "outputs": [],
   "source": [
    "#demo weighing function\n",
    "#print df\n",
    "#weigh student-slot who has high score"
   ]
  }
 ],
 "metadata": {
  "kernelspec": {
   "display_name": "Python 3",
   "language": "python",
   "name": "python3"
  },
  "language_info": {
   "codemirror_mode": {
    "name": "ipython",
    "version": 3
   },
   "file_extension": ".py",
   "mimetype": "text/x-python",
   "name": "python",
   "nbconvert_exporter": "python",
   "pygments_lexer": "ipython3",
   "version": "3.7.7"
  }
 },
 "nbformat": 4,
 "nbformat_minor": 4
}
